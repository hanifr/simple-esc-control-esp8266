{
  "nbformat": 4,
  "nbformat_minor": 0,
  "metadata": {
    "colab": {
      "provenance": [],
      "authorship_tag": "ABX9TyOocjEuqESdHPGG4PywcPlp",
      "include_colab_link": true
    },
    "kernelspec": {
      "name": "python3",
      "display_name": "Python 3"
    },
    "language_info": {
      "name": "python"
    }
  },
  "cells": [
    {
      "cell_type": "markdown",
      "metadata": {
        "id": "view-in-github",
        "colab_type": "text"
      },
      "source": [
        "<a href=\"https://colab.research.google.com/github/hanifr/simple-esc-control-esp8266/blob/main/ElevatorSimulation.ipynb\" target=\"_parent\"><img src=\"https://colab.research.google.com/assets/colab-badge.svg\" alt=\"Open In Colab\"/></a>"
      ]
    },
    {
      "cell_type": "code",
      "execution_count": 8,
      "metadata": {
        "colab": {
          "base_uri": "https://localhost:8080/"
        },
        "id": "5ag7kUYzhDJn",
        "outputId": "90913bde-5f23-4123-b29b-8435e3a059ed"
      },
      "outputs": [
        {
          "output_type": "stream",
          "name": "stdout",
          "text": [
            "Elevator response to floor 3 request:\n",
            "Journey time: 1.20 s\n",
            "Average speed: 3.33 m/s\n",
            "Cost function value: 1.84\n"
          ]
        }
      ],
      "source": [
        "import numpy as np\n",
        "\n",
        "# Define elevator parameters\n",
        "m = 1000 # mass of elevator and occupants (kg)\n",
        "g = 9.81 # acceleration due to gravity (m/s^2)\n",
        "Fmax = 20000 # maximum force applied by motor (N)\n",
        "vmax = 4 # maximum velocity of elevator (m/s)\n",
        "\n",
        "# Define elevator initial conditions\n",
        "p0 = 0 # initial position (m)\n",
        "v0 = 0 # initial velocity (m/s)\n",
        "\n",
        "# Define user request parameters\n",
        "floor_req = 3 # requested floor level\n",
        "floor_height = 2 # height of each floor (m)\n",
        "\n",
        "# Define cost function parameters\n",
        "time_weight = 0.7 # weight of time in cost function\n",
        "speed_weight = 0.3 # weight of speed in cost function\n",
        "\n",
        "# Calculate elevator response to user request\n",
        "floor_pos = (floor_req - 1) * floor_height # position of requested floor\n",
        "delta_p = floor_pos - p0 # distance to travel\n",
        "sign_delta_p = np.sign(delta_p) # direction of travel\n",
        "\n",
        "# Calculate acceleration required to reach maximum velocity\n",
        "a_max = (Fmax / m) * sign_delta_p\n",
        "\n",
        "# Calculate time required to reach maximum velocity\n",
        "t_vmax = vmax / abs(a_max)\n",
        "\n",
        "# Calculate distance traveled during acceleration phase\n",
        "p_acc = 0.5 * a_max * t_vmax ** 2\n",
        "\n",
        "# Calculate distance remaining after acceleration phase\n",
        "delta_p_rem = abs(delta_p) - 2 * p_acc\n",
        "\n",
        "# Calculate time required to travel remaining distance at maximum speed\n",
        "t_vmax_rem = delta_p_rem / vmax\n",
        "\n",
        "# Calculate total time required for elevator journey\n",
        "t_total = 2 * t_vmax + t_vmax_rem\n",
        "\n",
        "# Calculate average speed during journey\n",
        "v_avg = abs(delta_p) / t_total\n",
        "\n",
        "# Calculate cost function value\n",
        "cost = time_weight * t_total + speed_weight * v_avg\n",
        "\n",
        "# Display results\n",
        "print(f'Elevator response to floor {floor_req} request:')\n",
        "print(f'Journey time: {t_total:.2f} s')\n",
        "print(f'Average speed: {v_avg:.2f} m/s')\n",
        "print(f'Cost function value: {cost:.2f}')\n"
      ]
    }
  ]
}